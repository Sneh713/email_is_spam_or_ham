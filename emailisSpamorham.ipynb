{
  "nbformat": 4,
  "nbformat_minor": 0,
  "metadata": {
    "colab": {
      "provenance": []
    },
    "kernelspec": {
      "name": "python3",
      "display_name": "Python 3"
    },
    "language_info": {
      "name": "python"
    }
  },
  "cells": [
    {
      "cell_type": "code",
      "execution_count": 2,
      "metadata": {
        "colab": {
          "base_uri": "https://localhost:8080/"
        },
        "id": "Ht9g4gv0Am73",
        "outputId": "f73db7d0-e2a7-4a94-c94c-9f17a7fe1dad"
      },
      "outputs": [
        {
          "output_type": "stream",
          "name": "stdout",
          "text": [
            "hii\n"
          ]
        }
      ],
      "source": [
        "print(\"hii\")"
      ]
    },
    {
      "cell_type": "markdown",
      "source": [
        "connect to drive"
      ],
      "metadata": {
        "id": "IHtjhT2SJ44p"
      }
    },
    {
      "cell_type": "code",
      "source": [
        "from google.colab import drive\n",
        "drive.mount('/content/drive')"
      ],
      "metadata": {
        "colab": {
          "base_uri": "https://localhost:8080/"
        },
        "id": "KXwopWt8B49D",
        "outputId": "53abce88-df35-4eea-984a-8e7144f7a043"
      },
      "execution_count": 3,
      "outputs": [
        {
          "output_type": "stream",
          "name": "stdout",
          "text": [
            "Mounted at /content/drive\n"
          ]
        }
      ]
    },
    {
      "cell_type": "markdown",
      "source": [
        "import library bold text"
      ],
      "metadata": {
        "id": "-JS2Gqa-J8Cp"
      }
    },
    {
      "cell_type": "code",
      "source": [
        "import pandas as pd\n",
        "import numpy as np"
      ],
      "metadata": {
        "id": "fhVqNU8HB6qb"
      },
      "execution_count": 4,
      "outputs": []
    },
    {
      "cell_type": "markdown",
      "source": [
        "dataset"
      ],
      "metadata": {
        "id": "ygtDMSZBKApR"
      }
    },
    {
      "cell_type": "code",
      "source": [
        "df=pd.read_csv(\"/content/drive/MyDrive/Colab Notebooks/spam.csv\",encoding=\"ISO-8859-1\")"
      ],
      "metadata": {
        "id": "DwRvbd4cCDQL"
      },
      "execution_count": 8,
      "outputs": []
    },
    {
      "cell_type": "code",
      "source": [
        "df.head()"
      ],
      "metadata": {
        "colab": {
          "base_uri": "https://localhost:8080/",
          "height": 206
        },
        "id": "PGJlhDNYCUW7",
        "outputId": "93e5a2a1-04fd-4e97-8560-ae3f7f69b5a5"
      },
      "execution_count": 9,
      "outputs": [
        {
          "output_type": "execute_result",
          "data": {
            "text/plain": [
              "     v1                                                 v2 Unnamed: 2  \\\n",
              "0   ham  Go until jurong point, crazy.. Available only ...        NaN   \n",
              "1   ham                      Ok lar... Joking wif u oni...        NaN   \n",
              "2  spam  Free entry in 2 a wkly comp to win FA Cup fina...        NaN   \n",
              "3   ham  U dun say so early hor... U c already then say...        NaN   \n",
              "4   ham  Nah I don't think he goes to usf, he lives aro...        NaN   \n",
              "\n",
              "  Unnamed: 3 Unnamed: 4  \n",
              "0        NaN        NaN  \n",
              "1        NaN        NaN  \n",
              "2        NaN        NaN  \n",
              "3        NaN        NaN  \n",
              "4        NaN        NaN  "
            ],
            "text/html": [
              "\n",
              "  <div id=\"df-6b217aad-29d2-4c6d-b2d2-dbcaad1405ec\">\n",
              "    <div class=\"colab-df-container\">\n",
              "      <div>\n",
              "<style scoped>\n",
              "    .dataframe tbody tr th:only-of-type {\n",
              "        vertical-align: middle;\n",
              "    }\n",
              "\n",
              "    .dataframe tbody tr th {\n",
              "        vertical-align: top;\n",
              "    }\n",
              "\n",
              "    .dataframe thead th {\n",
              "        text-align: right;\n",
              "    }\n",
              "</style>\n",
              "<table border=\"1\" class=\"dataframe\">\n",
              "  <thead>\n",
              "    <tr style=\"text-align: right;\">\n",
              "      <th></th>\n",
              "      <th>v1</th>\n",
              "      <th>v2</th>\n",
              "      <th>Unnamed: 2</th>\n",
              "      <th>Unnamed: 3</th>\n",
              "      <th>Unnamed: 4</th>\n",
              "    </tr>\n",
              "  </thead>\n",
              "  <tbody>\n",
              "    <tr>\n",
              "      <th>0</th>\n",
              "      <td>ham</td>\n",
              "      <td>Go until jurong point, crazy.. Available only ...</td>\n",
              "      <td>NaN</td>\n",
              "      <td>NaN</td>\n",
              "      <td>NaN</td>\n",
              "    </tr>\n",
              "    <tr>\n",
              "      <th>1</th>\n",
              "      <td>ham</td>\n",
              "      <td>Ok lar... Joking wif u oni...</td>\n",
              "      <td>NaN</td>\n",
              "      <td>NaN</td>\n",
              "      <td>NaN</td>\n",
              "    </tr>\n",
              "    <tr>\n",
              "      <th>2</th>\n",
              "      <td>spam</td>\n",
              "      <td>Free entry in 2 a wkly comp to win FA Cup fina...</td>\n",
              "      <td>NaN</td>\n",
              "      <td>NaN</td>\n",
              "      <td>NaN</td>\n",
              "    </tr>\n",
              "    <tr>\n",
              "      <th>3</th>\n",
              "      <td>ham</td>\n",
              "      <td>U dun say so early hor... U c already then say...</td>\n",
              "      <td>NaN</td>\n",
              "      <td>NaN</td>\n",
              "      <td>NaN</td>\n",
              "    </tr>\n",
              "    <tr>\n",
              "      <th>4</th>\n",
              "      <td>ham</td>\n",
              "      <td>Nah I don't think he goes to usf, he lives aro...</td>\n",
              "      <td>NaN</td>\n",
              "      <td>NaN</td>\n",
              "      <td>NaN</td>\n",
              "    </tr>\n",
              "  </tbody>\n",
              "</table>\n",
              "</div>\n",
              "      <button class=\"colab-df-convert\" onclick=\"convertToInteractive('df-6b217aad-29d2-4c6d-b2d2-dbcaad1405ec')\"\n",
              "              title=\"Convert this dataframe to an interactive table.\"\n",
              "              style=\"display:none;\">\n",
              "        \n",
              "  <svg xmlns=\"http://www.w3.org/2000/svg\" height=\"24px\"viewBox=\"0 0 24 24\"\n",
              "       width=\"24px\">\n",
              "    <path d=\"M0 0h24v24H0V0z\" fill=\"none\"/>\n",
              "    <path d=\"M18.56 5.44l.94 2.06.94-2.06 2.06-.94-2.06-.94-.94-2.06-.94 2.06-2.06.94zm-11 1L8.5 8.5l.94-2.06 2.06-.94-2.06-.94L8.5 2.5l-.94 2.06-2.06.94zm10 10l.94 2.06.94-2.06 2.06-.94-2.06-.94-.94-2.06-.94 2.06-2.06.94z\"/><path d=\"M17.41 7.96l-1.37-1.37c-.4-.4-.92-.59-1.43-.59-.52 0-1.04.2-1.43.59L10.3 9.45l-7.72 7.72c-.78.78-.78 2.05 0 2.83L4 21.41c.39.39.9.59 1.41.59.51 0 1.02-.2 1.41-.59l7.78-7.78 2.81-2.81c.8-.78.8-2.07 0-2.86zM5.41 20L4 18.59l7.72-7.72 1.47 1.35L5.41 20z\"/>\n",
              "  </svg>\n",
              "      </button>\n",
              "      \n",
              "  <style>\n",
              "    .colab-df-container {\n",
              "      display:flex;\n",
              "      flex-wrap:wrap;\n",
              "      gap: 12px;\n",
              "    }\n",
              "\n",
              "    .colab-df-convert {\n",
              "      background-color: #E8F0FE;\n",
              "      border: none;\n",
              "      border-radius: 50%;\n",
              "      cursor: pointer;\n",
              "      display: none;\n",
              "      fill: #1967D2;\n",
              "      height: 32px;\n",
              "      padding: 0 0 0 0;\n",
              "      width: 32px;\n",
              "    }\n",
              "\n",
              "    .colab-df-convert:hover {\n",
              "      background-color: #E2EBFA;\n",
              "      box-shadow: 0px 1px 2px rgba(60, 64, 67, 0.3), 0px 1px 3px 1px rgba(60, 64, 67, 0.15);\n",
              "      fill: #174EA6;\n",
              "    }\n",
              "\n",
              "    [theme=dark] .colab-df-convert {\n",
              "      background-color: #3B4455;\n",
              "      fill: #D2E3FC;\n",
              "    }\n",
              "\n",
              "    [theme=dark] .colab-df-convert:hover {\n",
              "      background-color: #434B5C;\n",
              "      box-shadow: 0px 1px 3px 1px rgba(0, 0, 0, 0.15);\n",
              "      filter: drop-shadow(0px 1px 2px rgba(0, 0, 0, 0.3));\n",
              "      fill: #FFFFFF;\n",
              "    }\n",
              "  </style>\n",
              "\n",
              "      <script>\n",
              "        const buttonEl =\n",
              "          document.querySelector('#df-6b217aad-29d2-4c6d-b2d2-dbcaad1405ec button.colab-df-convert');\n",
              "        buttonEl.style.display =\n",
              "          google.colab.kernel.accessAllowed ? 'block' : 'none';\n",
              "\n",
              "        async function convertToInteractive(key) {\n",
              "          const element = document.querySelector('#df-6b217aad-29d2-4c6d-b2d2-dbcaad1405ec');\n",
              "          const dataTable =\n",
              "            await google.colab.kernel.invokeFunction('convertToInteractive',\n",
              "                                                     [key], {});\n",
              "          if (!dataTable) return;\n",
              "\n",
              "          const docLinkHtml = 'Like what you see? Visit the ' +\n",
              "            '<a target=\"_blank\" href=https://colab.research.google.com/notebooks/data_table.ipynb>data table notebook</a>'\n",
              "            + ' to learn more about interactive tables.';\n",
              "          element.innerHTML = '';\n",
              "          dataTable['output_type'] = 'display_data';\n",
              "          await google.colab.output.renderOutput(dataTable, element);\n",
              "          const docLink = document.createElement('div');\n",
              "          docLink.innerHTML = docLinkHtml;\n",
              "          element.appendChild(docLink);\n",
              "        }\n",
              "      </script>\n",
              "    </div>\n",
              "  </div>\n",
              "  "
            ]
          },
          "metadata": {},
          "execution_count": 9
        }
      ]
    },
    {
      "cell_type": "code",
      "source": [
        "df.describe"
      ],
      "metadata": {
        "colab": {
          "base_uri": "https://localhost:8080/"
        },
        "id": "dVoB5vCzDD19",
        "outputId": "6afa32e3-4d8a-4b7a-a545-b89a6c45a453"
      },
      "execution_count": 14,
      "outputs": [
        {
          "output_type": "execute_result",
          "data": {
            "text/plain": [
              "<bound method NDFrame.describe of         v1                                                 v2 Unnamed: 2  \\\n",
              "0      ham  Go until jurong point, crazy.. Available only ...        NaN   \n",
              "1      ham                      Ok lar... Joking wif u oni...        NaN   \n",
              "2     spam  Free entry in 2 a wkly comp to win FA Cup fina...        NaN   \n",
              "3      ham  U dun say so early hor... U c already then say...        NaN   \n",
              "4      ham  Nah I don't think he goes to usf, he lives aro...        NaN   \n",
              "...    ...                                                ...        ...   \n",
              "5567  spam  This is the 2nd time we have tried 2 contact u...        NaN   \n",
              "5568   ham              Will Ì_ b going to esplanade fr home?        NaN   \n",
              "5569   ham  Pity, * was in mood for that. So...any other s...        NaN   \n",
              "5570   ham  The guy did some bitching but I acted like i'd...        NaN   \n",
              "5571   ham                         Rofl. Its true to its name        NaN   \n",
              "\n",
              "     Unnamed: 3 Unnamed: 4  \n",
              "0           NaN        NaN  \n",
              "1           NaN        NaN  \n",
              "2           NaN        NaN  \n",
              "3           NaN        NaN  \n",
              "4           NaN        NaN  \n",
              "...         ...        ...  \n",
              "5567        NaN        NaN  \n",
              "5568        NaN        NaN  \n",
              "5569        NaN        NaN  \n",
              "5570        NaN        NaN  \n",
              "5571        NaN        NaN  \n",
              "\n",
              "[5572 rows x 5 columns]>"
            ]
          },
          "metadata": {},
          "execution_count": 14
        }
      ]
    },
    {
      "cell_type": "code",
      "source": [
        "df['spam'] = df['v1'].apply(lambda x: 1 if x =='spam' else 0)"
      ],
      "metadata": {
        "id": "RWlLW_vADISa"
      },
      "execution_count": 16,
      "outputs": []
    },
    {
      "cell_type": "code",
      "source": [
        "df.shape"
      ],
      "metadata": {
        "colab": {
          "base_uri": "https://localhost:8080/"
        },
        "id": "f5OtJpsUDltr",
        "outputId": "6e7979b6-0423-414c-8117-05120f9ee6c6"
      },
      "execution_count": 17,
      "outputs": [
        {
          "output_type": "execute_result",
          "data": {
            "text/plain": [
              "(5572, 6)"
            ]
          },
          "metadata": {},
          "execution_count": 17
        }
      ]
    },
    {
      "cell_type": "code",
      "source": [
        "df.head()"
      ],
      "metadata": {
        "colab": {
          "base_uri": "https://localhost:8080/",
          "height": 206
        },
        "id": "kVUgA1RvDyIM",
        "outputId": "a1dc5cba-ad6c-4649-d242-9ae0bd74162f"
      },
      "execution_count": 18,
      "outputs": [
        {
          "output_type": "execute_result",
          "data": {
            "text/plain": [
              "     v1                                                 v2 Unnamed: 2  \\\n",
              "0   ham  Go until jurong point, crazy.. Available only ...        NaN   \n",
              "1   ham                      Ok lar... Joking wif u oni...        NaN   \n",
              "2  spam  Free entry in 2 a wkly comp to win FA Cup fina...        NaN   \n",
              "3   ham  U dun say so early hor... U c already then say...        NaN   \n",
              "4   ham  Nah I don't think he goes to usf, he lives aro...        NaN   \n",
              "\n",
              "  Unnamed: 3 Unnamed: 4  spam  \n",
              "0        NaN        NaN     0  \n",
              "1        NaN        NaN     0  \n",
              "2        NaN        NaN     1  \n",
              "3        NaN        NaN     0  \n",
              "4        NaN        NaN     0  "
            ],
            "text/html": [
              "\n",
              "  <div id=\"df-1016fd32-2bdb-449c-a43f-5dc0f7c749f0\">\n",
              "    <div class=\"colab-df-container\">\n",
              "      <div>\n",
              "<style scoped>\n",
              "    .dataframe tbody tr th:only-of-type {\n",
              "        vertical-align: middle;\n",
              "    }\n",
              "\n",
              "    .dataframe tbody tr th {\n",
              "        vertical-align: top;\n",
              "    }\n",
              "\n",
              "    .dataframe thead th {\n",
              "        text-align: right;\n",
              "    }\n",
              "</style>\n",
              "<table border=\"1\" class=\"dataframe\">\n",
              "  <thead>\n",
              "    <tr style=\"text-align: right;\">\n",
              "      <th></th>\n",
              "      <th>v1</th>\n",
              "      <th>v2</th>\n",
              "      <th>Unnamed: 2</th>\n",
              "      <th>Unnamed: 3</th>\n",
              "      <th>Unnamed: 4</th>\n",
              "      <th>spam</th>\n",
              "    </tr>\n",
              "  </thead>\n",
              "  <tbody>\n",
              "    <tr>\n",
              "      <th>0</th>\n",
              "      <td>ham</td>\n",
              "      <td>Go until jurong point, crazy.. Available only ...</td>\n",
              "      <td>NaN</td>\n",
              "      <td>NaN</td>\n",
              "      <td>NaN</td>\n",
              "      <td>0</td>\n",
              "    </tr>\n",
              "    <tr>\n",
              "      <th>1</th>\n",
              "      <td>ham</td>\n",
              "      <td>Ok lar... Joking wif u oni...</td>\n",
              "      <td>NaN</td>\n",
              "      <td>NaN</td>\n",
              "      <td>NaN</td>\n",
              "      <td>0</td>\n",
              "    </tr>\n",
              "    <tr>\n",
              "      <th>2</th>\n",
              "      <td>spam</td>\n",
              "      <td>Free entry in 2 a wkly comp to win FA Cup fina...</td>\n",
              "      <td>NaN</td>\n",
              "      <td>NaN</td>\n",
              "      <td>NaN</td>\n",
              "      <td>1</td>\n",
              "    </tr>\n",
              "    <tr>\n",
              "      <th>3</th>\n",
              "      <td>ham</td>\n",
              "      <td>U dun say so early hor... U c already then say...</td>\n",
              "      <td>NaN</td>\n",
              "      <td>NaN</td>\n",
              "      <td>NaN</td>\n",
              "      <td>0</td>\n",
              "    </tr>\n",
              "    <tr>\n",
              "      <th>4</th>\n",
              "      <td>ham</td>\n",
              "      <td>Nah I don't think he goes to usf, he lives aro...</td>\n",
              "      <td>NaN</td>\n",
              "      <td>NaN</td>\n",
              "      <td>NaN</td>\n",
              "      <td>0</td>\n",
              "    </tr>\n",
              "  </tbody>\n",
              "</table>\n",
              "</div>\n",
              "      <button class=\"colab-df-convert\" onclick=\"convertToInteractive('df-1016fd32-2bdb-449c-a43f-5dc0f7c749f0')\"\n",
              "              title=\"Convert this dataframe to an interactive table.\"\n",
              "              style=\"display:none;\">\n",
              "        \n",
              "  <svg xmlns=\"http://www.w3.org/2000/svg\" height=\"24px\"viewBox=\"0 0 24 24\"\n",
              "       width=\"24px\">\n",
              "    <path d=\"M0 0h24v24H0V0z\" fill=\"none\"/>\n",
              "    <path d=\"M18.56 5.44l.94 2.06.94-2.06 2.06-.94-2.06-.94-.94-2.06-.94 2.06-2.06.94zm-11 1L8.5 8.5l.94-2.06 2.06-.94-2.06-.94L8.5 2.5l-.94 2.06-2.06.94zm10 10l.94 2.06.94-2.06 2.06-.94-2.06-.94-.94-2.06-.94 2.06-2.06.94z\"/><path d=\"M17.41 7.96l-1.37-1.37c-.4-.4-.92-.59-1.43-.59-.52 0-1.04.2-1.43.59L10.3 9.45l-7.72 7.72c-.78.78-.78 2.05 0 2.83L4 21.41c.39.39.9.59 1.41.59.51 0 1.02-.2 1.41-.59l7.78-7.78 2.81-2.81c.8-.78.8-2.07 0-2.86zM5.41 20L4 18.59l7.72-7.72 1.47 1.35L5.41 20z\"/>\n",
              "  </svg>\n",
              "      </button>\n",
              "      \n",
              "  <style>\n",
              "    .colab-df-container {\n",
              "      display:flex;\n",
              "      flex-wrap:wrap;\n",
              "      gap: 12px;\n",
              "    }\n",
              "\n",
              "    .colab-df-convert {\n",
              "      background-color: #E8F0FE;\n",
              "      border: none;\n",
              "      border-radius: 50%;\n",
              "      cursor: pointer;\n",
              "      display: none;\n",
              "      fill: #1967D2;\n",
              "      height: 32px;\n",
              "      padding: 0 0 0 0;\n",
              "      width: 32px;\n",
              "    }\n",
              "\n",
              "    .colab-df-convert:hover {\n",
              "      background-color: #E2EBFA;\n",
              "      box-shadow: 0px 1px 2px rgba(60, 64, 67, 0.3), 0px 1px 3px 1px rgba(60, 64, 67, 0.15);\n",
              "      fill: #174EA6;\n",
              "    }\n",
              "\n",
              "    [theme=dark] .colab-df-convert {\n",
              "      background-color: #3B4455;\n",
              "      fill: #D2E3FC;\n",
              "    }\n",
              "\n",
              "    [theme=dark] .colab-df-convert:hover {\n",
              "      background-color: #434B5C;\n",
              "      box-shadow: 0px 1px 3px 1px rgba(0, 0, 0, 0.15);\n",
              "      filter: drop-shadow(0px 1px 2px rgba(0, 0, 0, 0.3));\n",
              "      fill: #FFFFFF;\n",
              "    }\n",
              "  </style>\n",
              "\n",
              "      <script>\n",
              "        const buttonEl =\n",
              "          document.querySelector('#df-1016fd32-2bdb-449c-a43f-5dc0f7c749f0 button.colab-df-convert');\n",
              "        buttonEl.style.display =\n",
              "          google.colab.kernel.accessAllowed ? 'block' : 'none';\n",
              "\n",
              "        async function convertToInteractive(key) {\n",
              "          const element = document.querySelector('#df-1016fd32-2bdb-449c-a43f-5dc0f7c749f0');\n",
              "          const dataTable =\n",
              "            await google.colab.kernel.invokeFunction('convertToInteractive',\n",
              "                                                     [key], {});\n",
              "          if (!dataTable) return;\n",
              "\n",
              "          const docLinkHtml = 'Like what you see? Visit the ' +\n",
              "            '<a target=\"_blank\" href=https://colab.research.google.com/notebooks/data_table.ipynb>data table notebook</a>'\n",
              "            + ' to learn more about interactive tables.';\n",
              "          element.innerHTML = '';\n",
              "          dataTable['output_type'] = 'display_data';\n",
              "          await google.colab.output.renderOutput(dataTable, element);\n",
              "          const docLink = document.createElement('div');\n",
              "          docLink.innerHTML = docLinkHtml;\n",
              "          element.appendChild(docLink);\n",
              "        }\n",
              "      </script>\n",
              "    </div>\n",
              "  </div>\n",
              "  "
            ]
          },
          "metadata": {},
          "execution_count": 18
        }
      ]
    },
    {
      "cell_type": "code",
      "source": [
        "df.columns"
      ],
      "metadata": {
        "colab": {
          "base_uri": "https://localhost:8080/"
        },
        "id": "8kpbBdmSD2ks",
        "outputId": "8b8f9e50-726d-41c3-b09b-8823997fc3a7"
      },
      "execution_count": 19,
      "outputs": [
        {
          "output_type": "execute_result",
          "data": {
            "text/plain": [
              "Index(['v1', 'v2', 'Unnamed: 2', 'Unnamed: 3', 'Unnamed: 4', 'spam'], dtype='object')"
            ]
          },
          "metadata": {},
          "execution_count": 19
        }
      ]
    },
    {
      "cell_type": "code",
      "source": [
        "df=df.drop(['Unnamed: 2','Unnamed: 3','Unnamed: 4'],axis=\"columns\")"
      ],
      "metadata": {
        "id": "PT_FuYyqD9Ay"
      },
      "execution_count": 25,
      "outputs": []
    },
    {
      "cell_type": "code",
      "source": [
        "df"
      ],
      "metadata": {
        "colab": {
          "base_uri": "https://localhost:8080/",
          "height": 424
        },
        "id": "JoQb8vveEIcq",
        "outputId": "6e055ef1-302c-4614-bd11-6ab60dc5a13b"
      },
      "execution_count": 26,
      "outputs": [
        {
          "output_type": "execute_result",
          "data": {
            "text/plain": [
              "        v1                                                 v2  spam\n",
              "0      ham  Go until jurong point, crazy.. Available only ...     0\n",
              "1      ham                      Ok lar... Joking wif u oni...     0\n",
              "2     spam  Free entry in 2 a wkly comp to win FA Cup fina...     1\n",
              "3      ham  U dun say so early hor... U c already then say...     0\n",
              "4      ham  Nah I don't think he goes to usf, he lives aro...     0\n",
              "...    ...                                                ...   ...\n",
              "5567  spam  This is the 2nd time we have tried 2 contact u...     1\n",
              "5568   ham              Will Ì_ b going to esplanade fr home?     0\n",
              "5569   ham  Pity, * was in mood for that. So...any other s...     0\n",
              "5570   ham  The guy did some bitching but I acted like i'd...     0\n",
              "5571   ham                         Rofl. Its true to its name     0\n",
              "\n",
              "[5572 rows x 3 columns]"
            ],
            "text/html": [
              "\n",
              "  <div id=\"df-bfaa867d-2435-4e7e-bca1-903b69e4bcc4\">\n",
              "    <div class=\"colab-df-container\">\n",
              "      <div>\n",
              "<style scoped>\n",
              "    .dataframe tbody tr th:only-of-type {\n",
              "        vertical-align: middle;\n",
              "    }\n",
              "\n",
              "    .dataframe tbody tr th {\n",
              "        vertical-align: top;\n",
              "    }\n",
              "\n",
              "    .dataframe thead th {\n",
              "        text-align: right;\n",
              "    }\n",
              "</style>\n",
              "<table border=\"1\" class=\"dataframe\">\n",
              "  <thead>\n",
              "    <tr style=\"text-align: right;\">\n",
              "      <th></th>\n",
              "      <th>v1</th>\n",
              "      <th>v2</th>\n",
              "      <th>spam</th>\n",
              "    </tr>\n",
              "  </thead>\n",
              "  <tbody>\n",
              "    <tr>\n",
              "      <th>0</th>\n",
              "      <td>ham</td>\n",
              "      <td>Go until jurong point, crazy.. Available only ...</td>\n",
              "      <td>0</td>\n",
              "    </tr>\n",
              "    <tr>\n",
              "      <th>1</th>\n",
              "      <td>ham</td>\n",
              "      <td>Ok lar... Joking wif u oni...</td>\n",
              "      <td>0</td>\n",
              "    </tr>\n",
              "    <tr>\n",
              "      <th>2</th>\n",
              "      <td>spam</td>\n",
              "      <td>Free entry in 2 a wkly comp to win FA Cup fina...</td>\n",
              "      <td>1</td>\n",
              "    </tr>\n",
              "    <tr>\n",
              "      <th>3</th>\n",
              "      <td>ham</td>\n",
              "      <td>U dun say so early hor... U c already then say...</td>\n",
              "      <td>0</td>\n",
              "    </tr>\n",
              "    <tr>\n",
              "      <th>4</th>\n",
              "      <td>ham</td>\n",
              "      <td>Nah I don't think he goes to usf, he lives aro...</td>\n",
              "      <td>0</td>\n",
              "    </tr>\n",
              "    <tr>\n",
              "      <th>...</th>\n",
              "      <td>...</td>\n",
              "      <td>...</td>\n",
              "      <td>...</td>\n",
              "    </tr>\n",
              "    <tr>\n",
              "      <th>5567</th>\n",
              "      <td>spam</td>\n",
              "      <td>This is the 2nd time we have tried 2 contact u...</td>\n",
              "      <td>1</td>\n",
              "    </tr>\n",
              "    <tr>\n",
              "      <th>5568</th>\n",
              "      <td>ham</td>\n",
              "      <td>Will Ì_ b going to esplanade fr home?</td>\n",
              "      <td>0</td>\n",
              "    </tr>\n",
              "    <tr>\n",
              "      <th>5569</th>\n",
              "      <td>ham</td>\n",
              "      <td>Pity, * was in mood for that. So...any other s...</td>\n",
              "      <td>0</td>\n",
              "    </tr>\n",
              "    <tr>\n",
              "      <th>5570</th>\n",
              "      <td>ham</td>\n",
              "      <td>The guy did some bitching but I acted like i'd...</td>\n",
              "      <td>0</td>\n",
              "    </tr>\n",
              "    <tr>\n",
              "      <th>5571</th>\n",
              "      <td>ham</td>\n",
              "      <td>Rofl. Its true to its name</td>\n",
              "      <td>0</td>\n",
              "    </tr>\n",
              "  </tbody>\n",
              "</table>\n",
              "<p>5572 rows × 3 columns</p>\n",
              "</div>\n",
              "      <button class=\"colab-df-convert\" onclick=\"convertToInteractive('df-bfaa867d-2435-4e7e-bca1-903b69e4bcc4')\"\n",
              "              title=\"Convert this dataframe to an interactive table.\"\n",
              "              style=\"display:none;\">\n",
              "        \n",
              "  <svg xmlns=\"http://www.w3.org/2000/svg\" height=\"24px\"viewBox=\"0 0 24 24\"\n",
              "       width=\"24px\">\n",
              "    <path d=\"M0 0h24v24H0V0z\" fill=\"none\"/>\n",
              "    <path d=\"M18.56 5.44l.94 2.06.94-2.06 2.06-.94-2.06-.94-.94-2.06-.94 2.06-2.06.94zm-11 1L8.5 8.5l.94-2.06 2.06-.94-2.06-.94L8.5 2.5l-.94 2.06-2.06.94zm10 10l.94 2.06.94-2.06 2.06-.94-2.06-.94-.94-2.06-.94 2.06-2.06.94z\"/><path d=\"M17.41 7.96l-1.37-1.37c-.4-.4-.92-.59-1.43-.59-.52 0-1.04.2-1.43.59L10.3 9.45l-7.72 7.72c-.78.78-.78 2.05 0 2.83L4 21.41c.39.39.9.59 1.41.59.51 0 1.02-.2 1.41-.59l7.78-7.78 2.81-2.81c.8-.78.8-2.07 0-2.86zM5.41 20L4 18.59l7.72-7.72 1.47 1.35L5.41 20z\"/>\n",
              "  </svg>\n",
              "      </button>\n",
              "      \n",
              "  <style>\n",
              "    .colab-df-container {\n",
              "      display:flex;\n",
              "      flex-wrap:wrap;\n",
              "      gap: 12px;\n",
              "    }\n",
              "\n",
              "    .colab-df-convert {\n",
              "      background-color: #E8F0FE;\n",
              "      border: none;\n",
              "      border-radius: 50%;\n",
              "      cursor: pointer;\n",
              "      display: none;\n",
              "      fill: #1967D2;\n",
              "      height: 32px;\n",
              "      padding: 0 0 0 0;\n",
              "      width: 32px;\n",
              "    }\n",
              "\n",
              "    .colab-df-convert:hover {\n",
              "      background-color: #E2EBFA;\n",
              "      box-shadow: 0px 1px 2px rgba(60, 64, 67, 0.3), 0px 1px 3px 1px rgba(60, 64, 67, 0.15);\n",
              "      fill: #174EA6;\n",
              "    }\n",
              "\n",
              "    [theme=dark] .colab-df-convert {\n",
              "      background-color: #3B4455;\n",
              "      fill: #D2E3FC;\n",
              "    }\n",
              "\n",
              "    [theme=dark] .colab-df-convert:hover {\n",
              "      background-color: #434B5C;\n",
              "      box-shadow: 0px 1px 3px 1px rgba(0, 0, 0, 0.15);\n",
              "      filter: drop-shadow(0px 1px 2px rgba(0, 0, 0, 0.3));\n",
              "      fill: #FFFFFF;\n",
              "    }\n",
              "  </style>\n",
              "\n",
              "      <script>\n",
              "        const buttonEl =\n",
              "          document.querySelector('#df-bfaa867d-2435-4e7e-bca1-903b69e4bcc4 button.colab-df-convert');\n",
              "        buttonEl.style.display =\n",
              "          google.colab.kernel.accessAllowed ? 'block' : 'none';\n",
              "\n",
              "        async function convertToInteractive(key) {\n",
              "          const element = document.querySelector('#df-bfaa867d-2435-4e7e-bca1-903b69e4bcc4');\n",
              "          const dataTable =\n",
              "            await google.colab.kernel.invokeFunction('convertToInteractive',\n",
              "                                                     [key], {});\n",
              "          if (!dataTable) return;\n",
              "\n",
              "          const docLinkHtml = 'Like what you see? Visit the ' +\n",
              "            '<a target=\"_blank\" href=https://colab.research.google.com/notebooks/data_table.ipynb>data table notebook</a>'\n",
              "            + ' to learn more about interactive tables.';\n",
              "          element.innerHTML = '';\n",
              "          dataTable['output_type'] = 'display_data';\n",
              "          await google.colab.output.renderOutput(dataTable, element);\n",
              "          const docLink = document.createElement('div');\n",
              "          docLink.innerHTML = docLinkHtml;\n",
              "          element.appendChild(docLink);\n",
              "        }\n",
              "      </script>\n",
              "    </div>\n",
              "  </div>\n",
              "  "
            ]
          },
          "metadata": {},
          "execution_count": 26
        }
      ]
    },
    {
      "cell_type": "code",
      "source": [
        "from sklearn.model_selection import train_test_split\n",
        "\n",
        "X_train, X_test, y_train, y_test = train_test_split(df.v2, df.spam, test_size=0.2)"
      ],
      "metadata": {
        "id": "PT1CYyJ7EiR9"
      },
      "execution_count": 27,
      "outputs": []
    },
    {
      "cell_type": "code",
      "source": [
        "X_train.shape"
      ],
      "metadata": {
        "colab": {
          "base_uri": "https://localhost:8080/"
        },
        "id": "KRH_-CWqEyKy",
        "outputId": "c84b78d6-65a8-4b2f-e7ea-076037026760"
      },
      "execution_count": 28,
      "outputs": [
        {
          "output_type": "execute_result",
          "data": {
            "text/plain": [
              "(4457,)"
            ]
          },
          "metadata": {},
          "execution_count": 28
        }
      ]
    },
    {
      "cell_type": "code",
      "source": [
        "X_test.shape"
      ],
      "metadata": {
        "colab": {
          "base_uri": "https://localhost:8080/"
        },
        "id": "L1twDhc3E1z7",
        "outputId": "c51845ef-c0c5-4f9c-bd3a-ba2db5f1accc"
      },
      "execution_count": 29,
      "outputs": [
        {
          "output_type": "execute_result",
          "data": {
            "text/plain": [
              "(1115,)"
            ]
          },
          "metadata": {},
          "execution_count": 29
        }
      ]
    },
    {
      "cell_type": "markdown",
      "source": [
        "bag of word"
      ],
      "metadata": {
        "id": "gt4C9ggdKGi0"
      }
    },
    {
      "cell_type": "code",
      "source": [
        "from sklearn.feature_extraction.text import CountVectorizer\n",
        "\n",
        "v = CountVectorizer()\n",
        "\n",
        "X_train_cv = v.fit_transform(X_train.values)\n",
        "X_train_cv"
      ],
      "metadata": {
        "colab": {
          "base_uri": "https://localhost:8080/"
        },
        "id": "Th9RLzF9E4SL",
        "outputId": "a5b1866d-df20-43f9-b07c-cdae2b22e7d3"
      },
      "execution_count": 30,
      "outputs": [
        {
          "output_type": "execute_result",
          "data": {
            "text/plain": [
              "<4457x7776 sparse matrix of type '<class 'numpy.int64'>'\n",
              "\twith 59432 stored elements in Compressed Sparse Row format>"
            ]
          },
          "metadata": {},
          "execution_count": 30
        }
      ]
    },
    {
      "cell_type": "code",
      "source": [
        "X_train_cv.toarray()[:2][0]"
      ],
      "metadata": {
        "colab": {
          "base_uri": "https://localhost:8080/"
        },
        "id": "0kSkGqBvE967",
        "outputId": "f412e99d-1e60-4bf7-a4de-4eb3559f12c1"
      },
      "execution_count": 31,
      "outputs": [
        {
          "output_type": "execute_result",
          "data": {
            "text/plain": [
              "array([0, 0, 0, ..., 0, 0, 0])"
            ]
          },
          "metadata": {},
          "execution_count": 31
        }
      ]
    },
    {
      "cell_type": "code",
      "source": [
        "X_train_cv.shape"
      ],
      "metadata": {
        "colab": {
          "base_uri": "https://localhost:8080/"
        },
        "id": "zEXhLVTLFDpr",
        "outputId": "e3fee2cc-0672-43c9-c02a-27fb9913b784"
      },
      "execution_count": 32,
      "outputs": [
        {
          "output_type": "execute_result",
          "data": {
            "text/plain": [
              "(4457, 7776)"
            ]
          },
          "metadata": {},
          "execution_count": 32
        }
      ]
    },
    {
      "cell_type": "code",
      "source": [
        "v.get_feature_names_out()[1771]"
      ],
      "metadata": {
        "colab": {
          "base_uri": "https://localhost:8080/",
          "height": 35
        },
        "id": "kdNghY_nFHMb",
        "outputId": "0542a632-738e-4dac-eef5-e1d7839d2eaa"
      },
      "execution_count": 33,
      "outputs": [
        {
          "output_type": "execute_result",
          "data": {
            "text/plain": [
              "'checking'"
            ],
            "application/vnd.google.colaboratory.intrinsic+json": {
              "type": "string"
            }
          },
          "metadata": {},
          "execution_count": 33
        }
      ]
    },
    {
      "cell_type": "code",
      "source": [
        "v.vocabulary_"
      ],
      "metadata": {
        "colab": {
          "base_uri": "https://localhost:8080/"
        },
        "id": "11A8cJ4bFKyq",
        "outputId": "ce78d268-00a3-45c7-b0d0-599c8230b2d8"
      },
      "execution_count": 34,
      "outputs": [
        {
          "output_type": "execute_result",
          "data": {
            "text/plain": [
              "{'will': 7534,\n",
              " 'do': 2401,\n",
              " 'have': 3386,\n",
              " 'good': 3212,\n",
              " 'day': 2204,\n",
              " 'never': 4780,\n",
              " 'blame': 1383,\n",
              " 'in': 3669,\n",
              " 'ur': 7216,\n",
              " 'life': 4123,\n",
              " 'days': 2205,\n",
              " 'give': 3177,\n",
              " 'happiness': 3363,\n",
              " 'bad': 1197,\n",
              " 'experience': 2752,\n",
              " 'both': 1450,\n",
              " 'are': 1041,\n",
              " 'essential': 2678,\n",
              " 'all': 897,\n",
              " 'gods': 3196,\n",
              " 'blessings': 1393,\n",
              " 'morning': 4617,\n",
              " 'just': 3901,\n",
              " 'wait': 7369,\n",
              " 'till': 6913,\n",
              " 'end': 2612,\n",
              " 'of': 4915,\n",
              " 'march': 4381,\n",
              " 'when': 7497,\n",
              " 'el': 2578,\n",
              " 'nino': 4812,\n",
              " 'gets': 3155,\n",
              " 'himself': 3461,\n",
              " 'oh': 4935,\n",
              " 'll': 4182,\n",
              " 'text': 6804,\n",
              " 'carlos': 1676,\n",
              " 'and': 946,\n",
              " 'let': 4107,\n",
              " 'you': 7722,\n",
              " 'know': 3984,\n",
              " 'hang': 3348,\n",
              " 'on': 4959,\n",
              " 'well': 7469,\n",
              " 'done': 2437,\n",
              " 'your': 7728,\n",
              " 'costa': 2043,\n",
              " 'del': 2252,\n",
              " 'sol': 6302,\n",
              " 'holiday': 3495,\n",
              " 'or': 4999,\n",
              " '5000': 526,\n",
              " 'await': 1162,\n",
              " 'collection': 1913,\n",
              " 'call': 1615,\n",
              " '09050090044': 172,\n",
              " 'now': 4867,\n",
              " 'toclaim': 6953,\n",
              " 'sae': 5891,\n",
              " 'tcs': 6746,\n",
              " 'pobox334': 5295,\n",
              " 'stockport': 6506,\n",
              " 'sk38xh': 6214,\n",
              " 'costå': 2047,\n",
              " '50': 524,\n",
              " 'pm': 5287,\n",
              " 'max10mins': 4421,\n",
              " 'ok': 4940,\n",
              " 'omw': 4958,\n",
              " 'at': 1109,\n",
              " 'castor': 1693,\n",
              " 'sorry': 6342,\n",
              " 'later': 4053,\n",
              " 'hey': 3445,\n",
              " 'babe': 1186,\n",
              " 'didn': 2327,\n",
              " 'get': 3152,\n",
              " 'sooner': 6333,\n",
              " 'gary': 3115,\n",
              " 'can': 1640,\n",
              " 'come': 1924,\n",
              " 'fix': 2914,\n",
              " 'it': 3784,\n",
              " 'cause': 1701,\n",
              " 'he': 3396,\n",
              " 'thinks': 6864,\n",
              " 'knows': 3987,\n",
              " 'what': 7490,\n",
              " 'is': 3772,\n",
              " 'but': 1584,\n",
              " 'doesn': 2415,\n",
              " 'go': 3190,\n",
              " 'as': 1077,\n",
              " 'far': 2818,\n",
              " 'ptbo': 5498,\n",
              " 'says': 5945,\n",
              " 'cost': 2042,\n",
              " 'lt': 4271,\n",
              " 'gt': 3289,\n",
              " 'bucks': 1554,\n",
              " 'don': 2435,\n",
              " 'if': 3624,\n",
              " 'might': 4501,\n",
              " 'be': 1275,\n",
              " 'cheaper': 1763,\n",
              " 'to': 6948,\n",
              " 'find': 2888,\n",
              " 'someone': 6311,\n",
              " 'there': 6848,\n",
              " 'we': 7430,\n",
              " 'any': 980,\n",
              " 'second': 5988,\n",
              " 'hand': 3341,\n",
              " 'machines': 4321,\n",
              " 'right': 5796,\n",
              " 'me': 4435,\n",
              " 'want': 7390,\n",
              " 'liked': 4135,\n",
              " 'new': 4784,\n",
              " 'house': 3544,\n",
              " 'whos': 7517,\n",
              " 'this': 6868,\n",
              " 'am': 920,\n",
              " 'class': 1844,\n",
              " 'stuff': 6556,\n",
              " 'sell': 6017,\n",
              " 'tell': 6772,\n",
              " 've': 7274,\n",
              " 'won': 7588,\n",
              " 'tc': 6744,\n",
              " 'did': 2326,\n",
              " 'my': 4695,\n",
              " 'customer': 2148,\n",
              " 'service': 6044,\n",
              " 'announcement': 962,\n",
              " 'recently': 5647,\n",
              " 'tried': 7056,\n",
              " 'make': 4352,\n",
              " 'delivery': 2262,\n",
              " 'were': 7477,\n",
              " 'unable': 7145,\n",
              " 'so': 6294,\n",
              " 'please': 5271,\n",
              " '07090298926': 22,\n",
              " 're': 5607,\n",
              " 'schedule': 5955,\n",
              " 'ref': 5668,\n",
              " '9307622': 716,\n",
              " 'watching': 7416,\n",
              " 'ûò': 7774,\n",
              " 'very': 7289,\n",
              " 'entertaining': 2640,\n",
              " 'getting': 3159,\n",
              " 'the': 6833,\n",
              " 'whole': 7514,\n",
              " 'hugh': 3569,\n",
              " 'laurie': 4061,\n",
              " 'thing': 6858,\n",
              " 'even': 2692,\n",
              " 'with': 7561,\n",
              " 'stick': 6499,\n",
              " 'indeed': 3688,\n",
              " 'especially': 2675,\n",
              " 'winner': 7545,\n",
              " 'been': 1295,\n",
              " 'specially': 6380,\n",
              " 'selected': 6012,\n",
              " 'receive': 5642,\n",
              " '1000': 262,\n",
              " 'flights': 2930,\n",
              " 'inc': 3671,\n",
              " 'speak': 6375,\n",
              " 'live': 4175,\n",
              " 'operator': 4986,\n",
              " 'claim': 1837,\n",
              " '0871277810910p': 113,\n",
              " 'min': 4511,\n",
              " '18': 323,\n",
              " 'dont': 2439,\n",
              " 'search': 5983,\n",
              " 'love': 4249,\n",
              " 'thats': 6830,\n",
              " 'why': 7520,\n",
              " 'its': 3791,\n",
              " 'called': 1622,\n",
              " 'falling': 2803,\n",
              " 'bcoz': 1271,\n",
              " 'force': 2979,\n",
              " 'yourself': 7733,\n",
              " 'fall': 2801,\n",
              " 'smeone': 6262,\n",
              " 'hold': 3491,\n",
              " 'bslvyl': 1547,\n",
              " 'made': 4329,\n",
              " 'great': 3262,\n",
              " 'too': 6986,\n",
              " 'popping': 5333,\n",
              " 'ibuprofens': 3604,\n",
              " 'was': 7403,\n",
              " 'no': 4821,\n",
              " 'help': 3427,\n",
              " 'das': 2194,\n",
              " 'cool': 2025,\n",
              " 'iknow': 3635,\n",
              " 'wellda': 7470,\n",
              " 'peril': 5176,\n",
              " 'studentfinancial': 6551,\n",
              " 'crisis': 2097,\n",
              " 'spk': 6402,\n",
              " 'l8r': 4006,\n",
              " 'hear': 3406,\n",
              " 'about': 748,\n",
              " 'divorce': 2391,\n",
              " 'barbie': 1229,\n",
              " 'comes': 1926,\n",
              " 'ken': 3936,\n",
              " 'today': 6954,\n",
              " 'not': 4855,\n",
              " 'workin': 7607,\n",
              " 'free': 3022,\n",
              " 'oso': 5021,\n",
              " 'gee': 3133,\n",
              " 'thgt': 6855,\n",
              " 'fren': 3030,\n",
              " 'shop': 6123,\n",
              " 'anytime': 990,\n",
              " 'for': 2978,\n",
              " 'real': 5618,\n",
              " 'tho': 6875,\n",
              " 'sucks': 6589,\n",
              " 'cook': 2021,\n",
              " 'electricity': 2587,\n",
              " 'out': 5032,\n",
              " 'hungry': 3577,\n",
              " 'available': 1150,\n",
              " 'soiree': 6301,\n",
              " 'june': 3896,\n",
              " '3rd': 458,\n",
              " 'trip': 7057,\n",
              " 'quite': 5550,\n",
              " 'tiring': 6924,\n",
              " 'lor': 4229,\n",
              " 'uni': 7169,\n",
              " 'starts': 6469,\n",
              " 'cos': 2041,\n",
              " 'taking': 6710,\n",
              " 'modules': 4587,\n",
              " 'jus': 3900,\n",
              " 'concentrating': 1967,\n",
              " 'final': 2884,\n",
              " 'yr': 7739,\n",
              " 'project': 5464,\n",
              " 'time': 6915,\n",
              " 'should': 6134,\n",
              " 'tomorrow': 6973,\n",
              " 'mark': 4386,\n",
              " 'works': 7610,\n",
              " 'his': 3467,\n",
              " 'work': 7604,\n",
              " 'by': 1597,\n",
              " 'meet': 4454,\n",
              " 'afterwards': 841,\n",
              " 'that': 6828,\n",
              " 'one': 4965,\n",
              " 'week': 7452,\n",
              " 'leave': 4084,\n",
              " 'put': 5526,\n",
              " 'bookedthe': 1433,\n",
              " 'hut': 3591,\n",
              " 'also': 913,\n",
              " 'off': 4917,\n",
              " 'how': 3549,\n",
              " 'way': 7425,\n",
              " 'wake': 7373,\n",
              " 'up': 7198,\n",
              " 'own': 5059,\n",
              " 'show': 6141,\n",
              " 'colours': 1919,\n",
              " 'euro': 2684,\n",
              " '2004': 348,\n",
              " 'offer': 4920,\n",
              " 'an': 943,\n",
              " 'england': 2625,\n",
              " 'flag': 2919,\n",
              " '3lions': 452,\n",
              " 'tone': 6975,\n",
              " 'phone': 5208,\n",
              " 'click': 1857,\n",
              " 'following': 2961,\n",
              " 'message': 4485,\n",
              " 'info': 3701,\n",
              " 'awesome': 1168,\n",
              " 'minute': 4527,\n",
              " 'forever': 2983,\n",
              " 'pick': 5222,\n",
              " 'prescription': 5402,\n",
              " 'pain': 5076,\n",
              " 'coming': 1930,\n",
              " 'back': 1195,\n",
              " 'urgent': 7220,\n",
              " '09061213237': 193,\n",
              " 'from': 3057,\n",
              " 'landline': 4029,\n",
              " 'cash': 1686,\n",
              " 'cs': 2111,\n",
              " 'po': 5289,\n",
              " 'box': 1462,\n",
              " '177': 322,\n",
              " 'm227xy': 4303,\n",
              " '16': 319,\n",
              " 'club': 1872,\n",
              " 'fink': 2899,\n",
              " 'met': 4491,\n",
              " 'yet': 7709,\n",
              " 'gr8': 3240,\n",
              " 'msg': 4646,\n",
              " '2day': 384,\n",
              " 'wiv': 7568,\n",
              " 'area': 1042,\n",
              " '09099726553': 255,\n",
              " 'reply': 5732,\n",
              " 'promised': 5470,\n",
              " 'carlie': 1674,\n",
              " 'callså': 1631,\n",
              " 'minmobsmore': 4520,\n",
              " 'lkpobox177hp51fl': 4181,\n",
              " 'stop': 6512,\n",
              " 'being': 1310,\n",
              " 'old': 4951,\n",
              " 'man': 4361,\n",
              " 'build': 1561,\n",
              " 'snowman': 6292,\n",
              " 'snow': 6289,\n",
              " 'angels': 952,\n",
              " 'snowball': 6290,\n",
              " 'fights': 2873,\n",
              " 'ela': 2579,\n",
              " 'kano': 3919,\n",
              " 'il': 3636,\n",
              " 'download': 2460,\n",
              " 'wen': 7472,\n",
              " 'aiyo': 875,\n",
              " 'ì_': 7763,\n",
              " 'got': 3229,\n",
              " 'meh': 4461,\n",
              " 'hi': 3449,\n",
              " 'darlin': 2189,\n",
              " 'youphone': 7727,\n",
              " 'im': 3641,\n",
              " 'athome': 1112,\n",
              " 'youwanna': 7735,\n",
              " 'chat': 1759,\n",
              " 'feel': 2844,\n",
              " 'nauseous': 4739,\n",
              " 'pissed': 5244,\n",
              " 'eat': 2542,\n",
              " 'sweets': 6672,\n",
              " 'planning': 5259,\n",
              " 'pig': 5233,\n",
              " 'dieting': 2335,\n",
              " 'half': 3333,\n",
              " 'account': 771,\n",
              " 'dry': 2499,\n",
              " 'would': 7624,\n",
              " 'could': 2052,\n",
              " 'trade': 7022,\n",
              " 'buy': 1589,\n",
              " 'some': 6308,\n",
              " 'shit': 6109,\n",
              " 'credit': 2087,\n",
              " 'card': 1662,\n",
              " 'hahaha': 3325,\n",
              " 'use': 7234,\n",
              " 'brain': 1487,\n",
              " 'dear': 2216,\n",
              " 'voucher': 7343,\n",
              " 'holder': 3492,\n",
              " '1st': 334,\n",
              " 'airport': 871,\n",
              " 'lounge': 4245,\n",
              " 'passes': 5123,\n",
              " 'using': 7241,\n",
              " '08704439680': 82,\n",
              " 'booking': 1434,\n",
              " 'quote': 5555,\n",
              " 'wot': 7621,\n",
              " 'weirdo': 7464,\n",
              " 'party': 5119,\n",
              " 'alex': 888,\n",
              " 'nichols': 4796,\n",
              " 'taste': 6729,\n",
              " 'fish': 2908,\n",
              " 'curry': 2143,\n",
              " 'place': 5249,\n",
              " 'booked': 1432,\n",
              " 'pilates': 5235,\n",
              " 'yoga': 7718,\n",
              " 'lesson': 4105,\n",
              " 'already': 910,\n",
              " 'haha': 3324,\n",
              " 'os': 5020,\n",
              " 'ubandu': 7127,\n",
              " 'which': 7507,\n",
              " 'run': 5873,\n",
              " 'without': 7565,\n",
              " 'installing': 3722,\n",
              " 'hard': 3365,\n",
              " 'disk': 2380,\n",
              " 'copy': 2032,\n",
              " 'important': 3658,\n",
              " 'files': 2877,\n",
              " 'system': 6690,\n",
              " 'repair': 5722,\n",
              " 'dunno': 2515,\n",
              " 'dad': 2169,\n",
              " 'said': 5898,\n",
              " 'home': 3500,\n",
              " 'bring': 1519,\n",
              " 'us': 7230,\n",
              " 'lunch': 4284,\n",
              " 'yup': 7746,\n",
              " 'reach': 5608,\n",
              " 'school': 5956,\n",
              " 'shall': 6073,\n",
              " 'book': 1431,\n",
              " 'chez': 1788,\n",
              " 'jules': 3891,\n",
              " 'eight': 2573,\n",
              " 'told': 6964,\n",
              " 'before': 1301,\n",
              " 'stupid': 6562,\n",
              " 'after': 838,\n",
              " 'wont': 7595,\n",
              " 'anything': 988,\n",
              " 'brother': 1535,\n",
              " 'spoken': 6414,\n",
              " 'she': 6088,\n",
              " 'went': 7474,\n",
              " 'attend': 1123,\n",
              " 'another': 967,\n",
              " 'two': 7108,\n",
              " 'rounds': 5845,\n",
              " 'still': 6502,\n",
              " 'friend': 3040,\n",
              " 'sure': 6641,\n",
              " 'him': 3460,\n",
              " 'because': 1284,\n",
              " 'smokes': 6270,\n",
              " 'much': 4663,\n",
              " 'then': 6843,\n",
              " 'spend': 6390,\n",
              " 'hours': 3543,\n",
              " 'begging': 1303,\n",
              " 'smoke': 6268,\n",
              " 'stash': 6472,\n",
              " 'ran': 5582,\n",
              " 'last': 4047,\n",
              " 'night': 4803,\n",
              " 'more': 4613,\n",
              " 'until': 7196,\n",
              " 'sunday': 6617,\n",
              " 'forgot': 2990,\n",
              " 'smth': 6279,\n",
              " 'like': 4134,\n",
              " 'number': 4880,\n",
              " 'sections': 5997,\n",
              " 'clearer': 1853,\n",
              " 'official': 4925,\n",
              " 'poly': 5317,\n",
              " 'ringtone': 5805,\n",
              " 'colour': 1917,\n",
              " 'yer': 7705,\n",
              " 'mobile': 4572,\n",
              " 'tonights': 6983,\n",
              " 'game': 3102,\n",
              " '84199': 666,\n",
              " 'optout': 4998,\n",
              " 'txt': 7109,\n",
              " 'eng': 2620,\n",
              " 'box39822': 1471,\n",
              " 'w111wx': 7351,\n",
              " 'otherwise': 5025,\n",
              " 'had': 3321,\n",
              " 'part': 5111,\n",
              " 'job': 3859,\n",
              " 'na': 4705,\n",
              " 'tuition': 7089,\n",
              " 'forget': 2986,\n",
              " 'mine': 4517,\n",
              " 'possession': 5340,\n",
              " 'property': 5480,\n",
              " 'mmm': 4559,\n",
              " 'childish': 1797,\n",
              " 'smile': 6263,\n",
              " 'mathews': 4412,\n",
              " 'tait': 6702,\n",
              " 'edwards': 2561,\n",
              " 'anderson': 947,\n",
              " 'whatsup': 7493,\n",
              " 'sleep': 6230,\n",
              " 'switch': 6679,\n",
              " 'fone': 2965,\n",
              " 'dammit': 2174,\n",
              " 'problem': 5446,\n",
              " 'renewal': 5714,\n",
              " 'away': 1167,\n",
              " 'details': 2300,\n",
              " 'auction': 1132,\n",
              " 'round': 5844,\n",
              " 'highest': 3455,\n",
              " 'bid': 1349,\n",
              " '54': 544,\n",
              " 'next': 4791,\n",
              " 'maximum': 4424,\n",
              " '71': 603,\n",
              " 'send': 6025,\n",
              " 'bids': 1350,\n",
              " '10': 260,\n",
              " '83383': 659,\n",
              " 'luck': 4276,\n",
              " 'while': 7508,\n",
              " 'hoping': 3522,\n",
              " 'malaria': 4357,\n",
              " 'miss': 4537,\n",
              " 'guys': 3312,\n",
              " 'bani': 1222,\n",
              " 'big': 1351,\n",
              " 'pls': 5279,\n",
              " 'her': 3437,\n",
              " 'john': 3864,\n",
              " 'lennon': 4099,\n",
              " 'where': 7501,\n",
              " 'lover': 4254,\n",
              " 'need': 4756,\n",
              " 'think': 6860,\n",
              " 'pix': 5246,\n",
              " 'see': 6001,\n",
              " 'top': 6994,\n",
              " 'bottom': 1454,\n",
              " 'between': 1337,\n",
              " 'people': 5164,\n",
              " '86688': 679,\n",
              " 'each': 2526,\n",
              " 'other': 5023,\n",
              " 'only': 4970,\n",
              " '150p': 309,\n",
              " 'rcvd': 5604,\n",
              " 'hg': 3447,\n",
              " 'suite342': 6603,\n",
              " '2lands': 392,\n",
              " 'row': 5847,\n",
              " 'w1j6hl': 7355,\n",
              " 'ldn': 4072,\n",
              " 'years': 7697,\n",
              " 'over': 5046,\n",
              " 'significance': 6170,\n",
              " 'fun': 3075,\n",
              " 'fact': 2784,\n",
              " 'although': 915,\n",
              " 'armand': 1057,\n",
              " 'eventually': 2697,\n",
              " 'tolerance': 6966,\n",
              " 'considering': 1995,\n",
              " 'fucked': 3064,\n",
              " 'hits': 3472,\n",
              " 'address': 801,\n",
              " 'sir': 6198,\n",
              " 'goodmorning': 3217,\n",
              " 'late': 4050,\n",
              " 'cherthala': 1783,\n",
              " 'case': 1685,\n",
              " 'cochin': 1893,\n",
              " 'bfore': 1344,\n",
              " 'start': 6466,\n",
              " 'accordingly': 770,\n",
              " 'tmorow': 6942,\n",
              " 'engaged': 2621,\n",
              " 'ans': 968,\n",
              " 'hasn': 3376,\n",
              " 'pattern': 5135,\n",
              " 'crap': 2075,\n",
              " 'weekends': 7455,\n",
              " 'anywhere': 993,\n",
              " 'damn': 2175,\n",
              " 'hunting': 3581,\n",
              " 'here': 3438,\n",
              " 'sis': 6200,\n",
              " 'weeks': 7457,\n",
              " 'pc': 5149,\n",
              " 'http': 3562,\n",
              " 'www': 7655,\n",
              " 'tlp': 6939,\n",
              " 'co': 1886,\n",
              " 'uk': 7136,\n",
              " 'expressoffer': 2766,\n",
              " 'ts': 7077,\n",
              " 'apply': 1015,\n",
              " 'texts': 6814,\n",
              " '80062': 633,\n",
              " 'room': 5835,\n",
              " 'soon': 6332,\n",
              " 'û_': 7768,\n",
              " 'hadn': 3322,\n",
              " 'clocks': 1860,\n",
              " 'til': 6912,\n",
              " 'shouted': 6137,\n",
              " 'everyone': 2704,\n",
              " 'realised': 5621,\n",
              " 'wahay': 7364,\n",
              " 'hour': 3541,\n",
              " 'bed': 1290,\n",
              " 'prob': 5444,\n",
              " 'change': 1738,\n",
              " 'windows': 7539,\n",
              " 'logoff': 4204,\n",
              " 'sound': 6351,\n",
              " 'wife': 7526,\n",
              " 'knew': 3981,\n",
              " 'murder': 4679,\n",
              " 'exactly': 2724,\n",
              " 'studying': 6554,\n",
              " 'weekend': 7454,\n",
              " 'mins': 4525,\n",
              " 'ful': 3070,\n",
              " 'song': 6327,\n",
              " 'lyrics': 4300,\n",
              " 'stayin': 6480,\n",
              " 'extra': 2769,\n",
              " 'wed': 7444,\n",
              " 'rugby': 5865,\n",
              " 'ham': 3338,\n",
              " 'checking': 1771,\n",
              " 'iq': 3762,\n",
              " 'evening': 2693,\n",
              " 'somewhat': 6320,\n",
              " 'event': 2695,\n",
              " 'laden': 4015,\n",
              " 'fill': 2878,\n",
              " 'worry': 7616,\n",
              " 'head': 3397,\n",
              " 'throat': 6889,\n",
              " 'wrecked': 7630,\n",
              " 'six': 6210,\n",
              " 'audrie': 1136,\n",
              " 'lousy': 4246,\n",
              " 'autocorrect': 1146,\n",
              " 'dude': 2507,\n",
              " 'makin': 4355,\n",
              " 'those': 6876,\n",
              " 'weirdy': 7465,\n",
              " 'brownies': 1540,\n",
              " 'sister': 6201,\n",
              " 'cookies': 2023,\n",
              " 'took': 6987,\n",
              " 'pics': 5226,\n",
              " 'every': 2699,\n",
              " 'smoked': 6269,\n",
              " 'calling': 1628,\n",
              " 'texting': 6811,\n",
              " 'wanted': 7392,\n",
              " 'alright': 911,\n",
              " 'morphine': 4619,\n",
              " 'yo': 7717,\n",
              " 'text82228': 6805,\n",
              " 'ringtones': 5807,\n",
              " 'logos': 4206,\n",
              " 'games': 3103,\n",
              " 'txt82228': 7111,\n",
              " 'com': 1920,\n",
              " 'questions': 5545,\n",
              " 'sun': 6615,\n",
              " 'cant': 1652,\n",
              " 'earth': 2534,\n",
              " 'luv': 4289,\n",
              " 'rays': 5600,\n",
              " 'cloud': 1870,\n",
              " 'river': 5815,\n",
              " 'rain': 5567,\n",
              " 'care': 1664,\n",
              " 'gud': 3294,\n",
              " 'evng': 2713,\n",
              " 'notice': 4860,\n",
              " 'looking': 4222,\n",
              " 'mirror': 4531,\n",
              " 'youre': 7729,\n",
              " 'turning': 7097,\n",
              " 'into': 3741,\n",
              " 'freak': 3018,\n",
              " 'doing': 2426,\n",
              " 'cbe': 1705,\n",
              " 'pay': 5141,\n",
              " 'aight': 866,\n",
              " 'wat': 7411,\n",
              " 'happening': 3359,\n",
              " 'side': 6164,\n",
              " 'lovely': 4252,\n",
              " 'drinkin': 2477,\n",
              " 'dancin': 2178,\n",
              " 'eatin': 2544,\n",
              " 'cinema': 1832,\n",
              " 'dollar': 2431,\n",
              " 'loan': 4189,\n",
              " 'mid': 4497,\n",
              " 'february': 2841,\n",
              " 'teeth': 6765,\n",
              " 'asap': 1079,\n",
              " 'take': 6705,\n",
              " 'vl': 7330,\n",
              " 'adsense': 815,\n",
              " 'approved': 1026,\n",
              " 'roger': 5828,\n",
              " 'ah': 858,\n",
              " 'confuses': 1984,\n",
              " 'things': 6859,\n",
              " 'doesnt': 2416,\n",
              " 'thought': 6880,\n",
              " 'friends': 3041,\n",
              " 'maybe': 4428,\n",
              " 'wrong': 7641,\n",
              " 'sort': 6343,\n",
              " 'invited': 3750,\n",
              " 'may': 4426,\n",
              " 'money': 4599,\n",
              " 'nice': 4795,\n",
              " 'dearly': 2219,\n",
              " 'set': 6048,\n",
              " 'family': 2808,\n",
              " 'responding': 5756,\n",
              " 'diwali': 2392,\n",
              " 'makes': 4353,\n",
              " 'died': 2332,\n",
              " 'cantdo': 1653,\n",
              " 'anythingtomorrow': 989,\n",
              " 'myparents': 4698,\n",
              " 'aretaking': 1046,\n",
              " 'outfor': 5036,\n",
              " 'meal': 4436,\n",
              " 'katexxx': 3925,\n",
              " 'hello': 3424,\n",
              " 'christmas': 1825,\n",
              " 'decided': 2227,\n",
              " 'keep': 3932,\n",
              " 'mp3': 4639,\n",
              " 'haircut': 3329,\n",
              " 'breezy': 1510,\n",
              " 'youdoing': 7723,\n",
              " 'sar': 5922,\n",
              " 'xxx': 7672,\n",
              " 'handsome': 3347,\n",
              " 'finding': 2889,\n",
              " 'lazy': 4068,\n",
              " 'working': 7608,\n",
              " 'towards': 7015,\n",
              " 'net': 4771,\n",
              " 'mummy': 4673,\n",
              " 'boytoy': 1484,\n",
              " 'does': 2413,\n",
              " 'having': 3391,\n",
              " 'buffet': 1558,\n",
              " 'driving': 2484,\n",
              " 'destination': 2297,\n",
              " 'mrng': 4643,\n",
              " 'hav': 3384,\n",
              " 'seeing': 6002,\n",
              " 'weird': 7462,\n",
              " 'bein': 1309,\n",
              " 'woah': 7582,\n",
              " 'realising': 5622,\n",
              " 'actually': 792,\n",
              " 'reasonable': 5632,\n",
              " 'wasnt': 7406,\n",
              " 'who': 7513,\n",
              " 'phoned': 5210,\n",
              " 'yours': 7732,\n",
              " 'concentration': 1968,\n",
              " 'mind': 4514,\n",
              " 'everything': 2708,\n",
              " 'okie': 4945,\n",
              " 'scared': 5950,\n",
              " 'say': 5942,\n",
              " 'fat': 2825,\n",
              " 'dun': 2513,\n",
              " 'wan': 7385,\n",
              " 'missin': 4540,\n",
              " 'hope': 3516,\n",
              " 'jess': 3846,\n",
              " 'xx': 7669,\n",
              " 'mmmmm': 4561,\n",
              " 'sooooo': 6337,\n",
              " 'words': 7603,\n",
              " 'mmmm': 4560,\n",
              " 'fuck': 3063,\n",
              " 'lion': 4157,\n",
              " 'devouring': 2310,\n",
              " 'kiss': 3972,\n",
              " 'across': 781,\n",
              " 'sea': 5982,\n",
              " 'warwick': 7402,\n",
              " 'planned': 5258,\n",
              " 'shopping': 6125,\n",
              " 'concert': 1970,\n",
              " 'tmw': 6945,\n",
              " 'canceled': 1645,\n",
              " 'havn': 3392,\n",
              " 'seen': 6007,\n",
              " 'ages': 853,\n",
              " 'yeah': 7695,\n",
              " 'together': 6958,\n",
              " 'sometime': 6317,\n",
              " 'goes': 3197,\n",
              " 'sip': 6195,\n",
              " 'cappuccino': 1658,\n",
              " 'clarify': 1842,\n",
              " 'open': 4979,\n",
              " 'return': 5773,\n",
              " 'ticket': 6905,\n",
              " 'preponed': 5399,\n",
              " 'kerala': 3939,\n",
              " 'wearing': 7435,\n",
              " 'den': 2267,\n",
              " 'shld': 6116,\n",
              " 'nvm': 4889,\n",
              " 'la': 4008,\n",
              " 'kaiez': 3909,\n",
              " 'goin': 3200,\n",
              " 'jazz': 3833,\n",
              " 'hiphop': 3465,\n",
              " 'catch': 1696,\n",
              " 'going': 3202,\n",
              " 'bahamas': 1203,\n",
              " 'callfreefone': 1626,\n",
              " '08081560665': 60,\n",
              " 'either': 2577,\n",
              " 'cruise': 2107,\n",
              " 'ofå': 4932,\n",
              " '2000': 346,\n",
              " 'opt': 4994,\n",
              " '07786200117': 32,\n",
              " 'double': 2452,\n",
              " 'txts': 7116,\n",
              " '6months': 595,\n",
              " 'bluetooth': 1412,\n",
              " 'orange': 5003,\n",
              " 'sony': 6329,\n",
              " 'nokia': 4831,\n",
              " 'motorola': 4628,\n",
              " 'phones': 5211,\n",
              " 'mobileupd8': 4576,\n",
              " '08000839402': 50,\n",
              " 'call2optout': 1617,\n",
              " 'n9dx': 4704,\n",
              " 'month': 4606,\n",
              " 'access': 763,\n",
              " 'news': 4789,\n",
              " 'sport': 6421,\n",
              " 'plus': 5284,\n",
              " '20': 344,\n",
              " 'photo': 5213,\n",
              " 'messages': 4487,\n",
              " 'yes': 7706,\n",
              " 'terms': 6791,\n",
              " 'ow': 5055,\n",
              " 'welcome': 7467,\n",
              " 'improved': 3667,\n",
              " 'sex': 6057,\n",
              " 'dogging': 2421,\n",
              " 'unsubscribe': 7193,\n",
              " 'msgs': 4652,\n",
              " 'early': 2530,\n",
              " 'hor': 3523,\n",
              " 'heart': 3410,\n",
              " 'empty': 2609,\n",
              " 'wisdom': 7551,\n",
              " 'eyes': 2775,\n",
              " 'dreams': 2472,\n",
              " 'amp': 935,\n",
              " 'frnds': 3049,\n",
              " 'alwys': 919,\n",
              " 'touch': 7010,\n",
              " 'sweet': 6668,\n",
              " 'sexy': 6060,\n",
              " 'singles': 6193,\n",
              " 'waiting': 7372,\n",
              " 'age': 847,\n",
              " 'followed': 2959,\n",
              " 'gender': 3138,\n",
              " 'wither': 7563,\n",
              " '23f': 361,\n",
              " 'gay': 3123,\n",
              " 'men': 4471,\n",
              " '23g': 362,\n",
              " 'prepare': 5396,\n",
              " 'pounded': 5356,\n",
              " 'joined': 3867,\n",
              " 'league': 4078,\n",
              " 'mean': 4438,\n",
              " 'deal': 2212,\n",
              " 'times': 6916,\n",
              " 'personal': 5186,\n",
              " 'praps': 5378,\n",
              " 'meant': 4443,\n",
              " 'goodo': 3221,\n",
              " 'look': 4218,\n",
              " 'ask': 1086,\n",
              " 'pa': 5066,\n",
              " 'meeting': 4456,\n",
              " 'da': 2165,\n",
              " 'slowly': 6252,\n",
              " 'god': 3195,\n",
              " 'clean': 1849,\n",
              " 'blood': 1404,\n",
              " 'ten': 6783,\n",
              " 'special': 6377,\n",
              " 'miracle': 4530,\n",
              " 'bluray': 1416,\n",
              " 'player': 5264,\n",
              " 'stand': 6456,\n",
              " 'bus': 1577,\n",
              " 'haf': 3323,\n",
              " 'found': 3005,\n",
              " 'cam': 1633,\n",
              " 'anti': 978,\n",
              " 'medicine': 4451,\n",
              " 'freefone': 3025,\n",
              " '08006344447': 57,\n",
              " 'guaranteed': 3292,\n",
              " 'gift': 3166,\n",
              " 'oops': 4978,\n",
              " 'roommate': 5837,\n",
              " 'ordered': 5007,\n",
              " '81303': 645,\n",
              " 'delivered': 2260,\n",
              " 'sufficient': 6597,\n",
              " 'probably': 5445,\n",
              " 'ilol': 3640,\n",
              " 'personally': 5188,\n",
              " 'wuldnt': 7653,\n",
              " 'bother': 1451,\n",
              " 'again': 844,\n",
              " 'mite': 4549,\n",
              " 'ride': 5795,\n",
              " 'bike': 1354,\n",
              " 'adult': 816,\n",
              " 'learn': 4080,\n",
              " 'danger': 2182,\n",
              " 'peeps': 5156,\n",
              " 'drugs': 2493,\n",
              " 'they': 6854,\n",
              " 'comment': 1933,\n",
              " 'town': 7016,\n",
              " 'rush': 5877,\n",
              " 'eating': 2545,\n",
              " 'nachos': 4707,\n",
              " 'eta': 2680,\n",
              " 'abt': 754,\n",
              " 'making': 4356,\n",
              " 'bigger': 1352,\n",
              " 'complacent': 1947,\n",
              " 'little': 4174,\n",
              " 'under': 7157,\n",
              " 'weather': 7437,\n",
              " 'kind': 3964,\n",
              " 'coccooning': 1892,\n",
              " 'single': 6192,\n",
              " 'partner': 5116,\n",
              " '1000s': 264,\n",
              " '62220cncl': 566,\n",
              " 'stopcs': 6516,\n",
              " '08717890890å': 135,\n",
              " 'per': 5166,\n",
              " 'tape': 6725,\n",
              " 'measure': 4445,\n",
              " 'fri': 3036,\n",
              " 'students': 6552,\n",
              " 'solved': 6307,\n",
              " 'cat': 1695,\n",
              " 'question': 5543,\n",
              " 'xam': 7661,\n",
              " 'answer': 970,\n",
              " 'brilliant': 1517,\n",
              " '1thing': 338,\n",
              " 'answr': 975,\n",
              " 'tonight': 6982,\n",
              " 'down': 2459,\n",
              " 'umma': 7141,\n",
              " 'wondar': 7589,\n",
              " 'full': 3072,\n",
              " 'flim': 2931,\n",
              " 'whatever': 7491,\n",
              " 'pretty': 5415,\n",
              " 'has': 3374,\n",
              " 'weirdest': 7463,\n",
              " 'auto': 1145,\n",
              " 'correct': 2036,\n",
              " 'daddy': 2170,\n",
              " 'arranging': 1066,\n",
              " 'fetch': 2856,\n",
              " 'mah': 4340,\n",
              " 'many': 4375,\n",
              " 'company': 1942,\n",
              " ...}"
            ]
          },
          "metadata": {},
          "execution_count": 34
        }
      ]
    },
    {
      "cell_type": "code",
      "source": [
        "X_train_np = X_train_cv.toarray()\n",
        "X_train_np[0]"
      ],
      "metadata": {
        "colab": {
          "base_uri": "https://localhost:8080/"
        },
        "id": "Cy1ZJy1pFNcq",
        "outputId": "f263ddd0-014e-46a3-e2de-0b4ba135e808"
      },
      "execution_count": 35,
      "outputs": [
        {
          "output_type": "execute_result",
          "data": {
            "text/plain": [
              "array([0, 0, 0, ..., 0, 0, 0])"
            ]
          },
          "metadata": {},
          "execution_count": 35
        }
      ]
    },
    {
      "cell_type": "code",
      "source": [
        "np.where(X_train_np[0]!=0)"
      ],
      "metadata": {
        "colab": {
          "base_uri": "https://localhost:8080/"
        },
        "id": "wB41coJAFSTL",
        "outputId": "d21dc80f-391f-4aec-c8da-05207941d6da"
      },
      "execution_count": 36,
      "outputs": [
        {
          "output_type": "execute_result",
          "data": {
            "text/plain": [
              "(array([2204, 2401, 3212, 3386, 7534]),)"
            ]
          },
          "metadata": {},
          "execution_count": 36
        }
      ]
    },
    {
      "cell_type": "code",
      "source": [],
      "metadata": {
        "id": "3mIqe_xOFVcc"
      },
      "execution_count": 37,
      "outputs": []
    },
    {
      "cell_type": "markdown",
      "source": [
        "model "
      ],
      "metadata": {
        "id": "Ijf0ZAPoKKv5"
      }
    },
    {
      "cell_type": "code",
      "source": [
        "from sklearn.naive_bayes import MultinomialNB\n",
        "\n",
        "model = MultinomialNB()\n",
        "model.fit(X_train_cv, y_train)"
      ],
      "metadata": {
        "colab": {
          "base_uri": "https://localhost:8080/"
        },
        "id": "8EZr7TCdFX9q",
        "outputId": "5b662047-b9f6-433c-841f-8c9d6ae21db1"
      },
      "execution_count": 38,
      "outputs": [
        {
          "output_type": "execute_result",
          "data": {
            "text/plain": [
              "MultinomialNB()"
            ]
          },
          "metadata": {},
          "execution_count": 38
        }
      ]
    },
    {
      "cell_type": "code",
      "source": [
        "X_test_cv = v.transform(X_test)"
      ],
      "metadata": {
        "id": "o5zVq18cFfdL"
      },
      "execution_count": 39,
      "outputs": []
    },
    {
      "cell_type": "code",
      "source": [
        "from sklearn.metrics import classification_report\n",
        "\n",
        "y_pred = model.predict(X_test_cv)\n",
        "\n",
        "print(classification_report(y_test, y_pred))"
      ],
      "metadata": {
        "colab": {
          "base_uri": "https://localhost:8080/"
        },
        "id": "lzxf0WdPFiIq",
        "outputId": "41c58255-479a-444a-988d-532a26028529"
      },
      "execution_count": 40,
      "outputs": [
        {
          "output_type": "stream",
          "name": "stdout",
          "text": [
            "              precision    recall  f1-score   support\n",
            "\n",
            "           0       0.99      1.00      0.99       980\n",
            "           1       0.98      0.90      0.94       135\n",
            "\n",
            "    accuracy                           0.99      1115\n",
            "   macro avg       0.99      0.95      0.97      1115\n",
            "weighted avg       0.99      0.99      0.99      1115\n",
            "\n"
          ]
        }
      ]
    },
    {
      "cell_type": "markdown",
      "source": [
        "result"
      ],
      "metadata": {
        "id": "Pai7QgBmKQUk"
      }
    },
    {
      "cell_type": "code",
      "source": [
        "emails = [\n",
        "    'Hey mohan, can we get together to watch footbal game tomorrow?',\n",
        "    'Upto 20% discount on parking, exclusive offer just for you. Dont miss this reward!'\n",
        "]\n",
        "\n",
        "emails_count = v.transform(emails)\n",
        "model.predict(emails_count)"
      ],
      "metadata": {
        "colab": {
          "base_uri": "https://localhost:8080/"
        },
        "id": "OZykhliJFkNq",
        "outputId": "7dbbfa6c-3ff1-4940-ab86-c3d039e3d8b1"
      },
      "execution_count": 41,
      "outputs": [
        {
          "output_type": "execute_result",
          "data": {
            "text/plain": [
              "array([0, 1])"
            ]
          },
          "metadata": {},
          "execution_count": 41
        }
      ]
    },
    {
      "cell_type": "code",
      "source": [
        "msg=[ \"Dear Sneh SinghThe more you repeat it, the better you’ll be at it. This expression is true for Job Interviews. Practice our well-crafted mock interviews created by top industry experts before heading toward cracking the final interview Benefits of Mock Interview:Boost your confidence by practicing for interviewsFaster employmentAssist you in getting ready for behaviorally-based interview questionsReduce the stress and anxiety of applicants before a real job interviewGet interviewed by the industry experts, pertaining to your profile @Rs. 2200 only.\"]"
      ],
      "metadata": {
        "id": "ESuoT958Fnu7"
      },
      "execution_count": 45,
      "outputs": []
    },
    {
      "cell_type": "code",
      "source": [
        "msg_c=v.transform(msg)"
      ],
      "metadata": {
        "id": "2BYFZYW_HeAp"
      },
      "execution_count": 46,
      "outputs": []
    },
    {
      "cell_type": "code",
      "source": [
        "model.predict(msg_c)"
      ],
      "metadata": {
        "colab": {
          "base_uri": "https://localhost:8080/"
        },
        "id": "AXaC6-4hHjoP",
        "outputId": "234c1696-2209-4c68-ae21-2891ffb92de6"
      },
      "execution_count": 47,
      "outputs": [
        {
          "output_type": "execute_result",
          "data": {
            "text/plain": [
              "array([0])"
            ]
          },
          "metadata": {},
          "execution_count": 47
        }
      ]
    },
    {
      "cell_type": "code",
      "source": [
        "m=[\"Upto 20% discount on parking, exclusive offer just for you. Dont miss this reward!\"]"
      ],
      "metadata": {
        "id": "V9PwYxX_HoYe"
      },
      "execution_count": 51,
      "outputs": []
    },
    {
      "cell_type": "code",
      "source": [
        "mc=v.transform(m)"
      ],
      "metadata": {
        "id": "OjAFCx2hJjxq"
      },
      "execution_count": 52,
      "outputs": []
    },
    {
      "cell_type": "code",
      "source": [
        "model.predict(mc)"
      ],
      "metadata": {
        "colab": {
          "base_uri": "https://localhost:8080/"
        },
        "id": "MMuZoh0TJs9Q",
        "outputId": "947ffe77-db58-42a0-a7b7-193e3c7e3012"
      },
      "execution_count": 53,
      "outputs": [
        {
          "output_type": "execute_result",
          "data": {
            "text/plain": [
              "array([1])"
            ]
          },
          "metadata": {},
          "execution_count": 53
        }
      ]
    },
    {
      "cell_type": "code",
      "source": [],
      "metadata": {
        "id": "oC_pTVK0J1mc"
      },
      "execution_count": null,
      "outputs": []
    }
  ]
}